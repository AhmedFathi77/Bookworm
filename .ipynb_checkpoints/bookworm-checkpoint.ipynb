{
 "cells": [
  {
   "cell_type": "markdown",
   "metadata": {},
   "source": [
    "# BOOKWORM"
   ]
  },
  {
   "cell_type": "code",
   "execution_count": 1,
   "metadata": {},
   "outputs": [],
   "source": [
    "import numpy as np\n",
    "import cv2\n",
    "from PIL import Image"
   ]
  },
  {
   "cell_type": "code",
   "execution_count": 2,
   "metadata": {},
   "outputs": [],
   "source": [
    "dot_kernel = np.ones((1,1),np.uint8)\n",
    "\n",
    "circle_kernel = cv2.getStructuringElement(cv2.MORPH_ELLIPSE,(3,3))\n",
    "\n",
    "bigger_circle_kernel = cv2.getStructuringElement(cv2.MORPH_ELLIPSE,(5,5))\n",
    "bigger_circle_kernel[0][1]=1\n",
    "bigger_circle_kernel[0][3]=1\n",
    "bigger_circle_kernel[4][1]=1\n",
    "bigger_circle_kernel[4][3]=1\n",
    "\n",
    "\n",
    "square_kernel = np.ones((3,3),np.uint8)\n",
    "\n",
    "bigger_square_kernel = np.ones((5,5),np.uint8)\n",
    "\n",
    "biggest_square_kernel= np.ones((7,7),np.uint8)\n",
    "\n",
    "huge_kernel = np.ones((19,19), np.uint8)\n",
    "huge_circle_kernel = cv2.getStructuringElement(cv2.MORPH_ELLIPSE,(19,19))\n",
    "\n",
    "biggest_circle_kernel= np.ones((7,7),np.uint8)\n",
    "biggest_circle_kernel = cv2.getStructuringElement(cv2.MORPH_ELLIPSE,(7,7))\n",
    "biggest_circle_kernel[0][2]=1\n",
    "biggest_circle_kernel[0][4]=1\n",
    "biggest_circle_kernel[1][0]=1\n",
    "biggest_circle_kernel[1][6]=1\n",
    "biggest_circle_kernel[5][0]=1\n",
    "biggest_circle_kernel[5][6]=1\n",
    "biggest_circle_kernel[6][2]=1\n",
    "biggest_circle_kernel[6][4]=1\n",
    "#print(biggest_circle_kernel)"
   ]
  },
  {
   "cell_type": "code",
   "execution_count": 27,
   "metadata": {},
   "outputs": [],
   "source": [
    "def arabic_processing(img):\n",
    "    rescaled = cv2.resize(img, None, fx=1.5, fy=1.5, interpolation=cv2.INTER_CUBIC)\n",
    "    grey = cv2.cvtColor(rescaled, cv2.COLOR_BGR2GRAY)\n",
    "    ret,thresholded = cv2.threshold(img,60,255,cv2.THRESH_BINARY)\n",
    "    erosion = cv2.erode(thresholded, circle_kernel, iterations=3)\n",
    "    dilated = cv2.dilate(erosion, circle_kernel, iterations=3)\n",
    "    smoothed = cv2.GaussianBlur(dilated, (5,5), 0)\n",
    "    cv2.imwrite('arabic-img-processed.png' , smoothed)\n",
    "    im = Image.open(\"first-arabic-test.png\")\n",
    "    im.save(\"first-arabic-test.png\", dpi=(300,300))\n",
    "    return smoothed\n",
    "\n",
    "def english_processing(img):\n",
    "    rescaled = cv2.resize(img, None, fx=1.5, fy=1.5, interpolation=cv2.INTER_CUBIC)\n",
    "    grey = cv2.cvtColor(rescaled, cv2.COLOR_BGR2GRAY)\n",
    "    thresholded = cv2.threshold(grey, 0, 255, cv2.THRESH_BINARY + cv2.THRESH_OTSU)[1]\n",
    "    erosion = cv2.erode(thresholded, circle_kernel, iterations=5)\n",
    "    dilated = cv2.dilate(erosion, circle_kernel, iterations=2)\n",
    "    smoothed = cv2.GaussianBlur(dilated, (7,7), 0)\n",
    "    cv2.imwrite('english-img-processed.png' , smoothed)\n",
    "    im = Image.open(\"first-arabic-test.png\")\n",
    "    im.save(\"first-arabic-test.png\", dpi=(300,300))\n",
    "    return smoothed"
   ]
  },
  {
   "cell_type": "code",
   "execution_count": 28,
   "metadata": {},
   "outputs": [],
   "source": [
    "english01 = cv2.imread('inputs\\english01.jpg',1)\n",
    "arabic01 = cv2.imread('inputs\\english05.jpg',1)\n",
    "\n",
    "arabic_processed=arabic_processing(arabic01)\n",
    "english_processed=english_processing(english01)"
   ]
  },
  {
   "cell_type": "markdown",
   "metadata": {},
   "source": [
    "# Rescaling"
   ]
  },
  {
   "cell_type": "code",
   "execution_count": null,
   "metadata": {},
   "outputs": [],
   "source": [
    "import matplotlib.pyplot as plt\n",
    "import matplotlib\n",
    "import matplotlib as mpl\n",
    "matplotlib.use('Agg')\n",
    "%matplotlib inline\n",
    "mpl.rcParams['agg.path.chunksize'] = 10000\n",
    "plt.rcParams['figure.figsize'] = [17, 17]\n",
    "\n",
    "english03_fig = plt.figure()\n",
    "ax1 = english03_fig.add_subplot(1,1,1)\n",
    "ax1.imshow(cv2.cvtColor(smoothed, cv2.COLOR_GRAY2RGB))"
   ]
  },
  {
   "cell_type": "code",
   "execution_count": null,
   "metadata": {},
   "outputs": [],
   "source": []
  }
 ],
 "metadata": {
  "kernelspec": {
   "display_name": "Python 3",
   "language": "python",
   "name": "python3"
  },
  "language_info": {
   "codemirror_mode": {
    "name": "ipython",
    "version": 3
   },
   "file_extension": ".py",
   "mimetype": "text/x-python",
   "name": "python",
   "nbconvert_exporter": "python",
   "pygments_lexer": "ipython3",
   "version": "3.5.4"
  }
 },
 "nbformat": 4,
 "nbformat_minor": 2
}
